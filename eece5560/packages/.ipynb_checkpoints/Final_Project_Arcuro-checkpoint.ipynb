{
 "cells": [
  {
   "cell_type": "code",
   "execution_count": 1,
   "id": "offshore-reasoning",
   "metadata": {},
   "outputs": [],
   "source": [
    "import cv2\n",
    "import cv2.aruco as aruco\n",
    "import numpy as np"
   ]
  },
  {
   "cell_type": "code",
   "execution_count": 2,
   "id": "employed-yield",
   "metadata": {},
   "outputs": [],
   "source": [
    "quadrant=1"
   ]
  },
  {
   "cell_type": "code",
   "execution_count": 3,
   "id": "bronze-helen",
   "metadata": {},
   "outputs": [
    {
     "name": "stdout",
     "output_type": "stream",
     "text": [
      "<class 'numpy.ndarray'>\n"
     ]
    }
   ],
   "source": [
    "img = cv2.imread('/Users/TurboSheep/Desktop/clear_aruco.png')\n",
    "print(type(img))"
   ]
  },
  {
   "cell_type": "code",
   "execution_count": 4,
   "id": "revised-metabolism",
   "metadata": {},
   "outputs": [],
   "source": [
    "gray = cv2.cvtColor(img,cv2.COLOR_BGR2GRAY)\n",
    "\n",
    "blur = cv2.GaussianBlur(gray,(5,5),0)\n",
    "ret,thresh = cv2.threshold(blur,70,255,cv2.THRESH_BINARY)\n",
    "\n",
    "cv2.imshow('Binary', blur)\n",
    "k = cv2.waitKey(0)\n"
   ]
  },
  {
   "cell_type": "code",
   "execution_count": 5,
   "id": "afraid-solid",
   "metadata": {},
   "outputs": [],
   "source": [
    "\n",
    "\n",
    "arucoDict = cv2.aruco.Dictionary_get(cv2.aruco.DICT_4X4_1000)\n",
    "arucoParams = cv2.aruco.DetectorParameters_create()\n",
    "(corners, ids, rejected) = cv2.aruco.detectMarkers(gray, arucoDict,parameters=arucoParams)\n"
   ]
  },
  {
   "cell_type": "code",
   "execution_count": 6,
   "id": "integrated-polls",
   "metadata": {},
   "outputs": [],
   "source": [
    "gray = cv2.cvtColor(img, cv2.COLOR_BGR2GRAY)\n",
    "aruco_dict = aruco.Dictionary_get(aruco.DICT_4X4_1000)\n",
    "arucoParameters = aruco.DetectorParameters_create()\n",
    "corners, ids, rejectedImgPoints = aruco.detectMarkers(gray, aruco_dict, parameters=arucoParameters)\n",
    "img = aruco.drawDetectedMarkers(img, corners)\n"
   ]
  },
  {
   "cell_type": "code",
   "execution_count": 7,
   "id": "killing-despite",
   "metadata": {},
   "outputs": [
    {
     "name": "stdout",
     "output_type": "stream",
     "text": [
      "[[  0]\n",
      " [131]\n",
      " [  1]]\n",
      "[[[179.  27.]\n",
      "  [220.  13.]\n",
      "  [213.  56.]\n",
      "  [173.  68.]]]\n"
     ]
    }
   ],
   "source": [
    "print(ids)\n",
    "#INPUT_IMAGE = \"fruits.jpg\"\n",
    "#IMAGE_NAME = INPUT_IMAGE[:INPUT_IMAGE.index(\".\")]\n",
    "#OUTPUT_IMAGE = IMAGE_NAME + \"_output.jpg\"\n",
    "#TABLE_IMAGE = IMAGE_NAME + \"_table.jpg\"\n",
    "#TABLE_IMAGE \n",
    "print(corners[2])"
   ]
  },
  {
   "cell_type": "code",
   "execution_count": 8,
   "id": "third-embassy",
   "metadata": {},
   "outputs": [
    {
     "name": "stderr",
     "output_type": "stream",
     "text": [
      "<ipython-input-8-8374920014e5>:4: DeprecationWarning: an integer is required (got type numpy.float32).  Implicit conversion to integers using __int__ is deprecated, and may be removed in a future version of Python.\n",
      "  a = cv2.line(img, result[1], result[2], (0,0,255), 7, cv2.LINE_AA)\n",
      "<ipython-input-8-8374920014e5>:5: DeprecationWarning: an integer is required (got type numpy.float32).  Implicit conversion to integers using __int__ is deprecated, and may be removed in a future version of Python.\n",
      "  b = cv2.line(img, result[2], result[3], (0,0,255), 7, cv2.LINE_AA)\n"
     ]
    }
   ],
   "source": [
    "if ids[0] == 0:\n",
    "    result = tuple([tuple(row) for row in corners[0][0]])\n",
    "    result\n",
    "    a = cv2.line(img, result[1], result[2], (0,0,255), 7, cv2.LINE_AA)\n",
    "    b = cv2.line(img, result[2], result[3], (0,0,255), 7, cv2.LINE_AA)"
   ]
  },
  {
   "cell_type": "code",
   "execution_count": 9,
   "id": "abandoned-christian",
   "metadata": {},
   "outputs": [
    {
     "name": "stderr",
     "output_type": "stream",
     "text": [
      "<ipython-input-9-ee8556e74a93>:4: DeprecationWarning: an integer is required (got type numpy.float32).  Implicit conversion to integers using __int__ is deprecated, and may be removed in a future version of Python.\n",
      "  a = cv2.line(img, result[0], result[1], (0,255,0), 7, cv2.LINE_AA)\n",
      "<ipython-input-9-ee8556e74a93>:5: DeprecationWarning: an integer is required (got type numpy.float32).  Implicit conversion to integers using __int__ is deprecated, and may be removed in a future version of Python.\n",
      "  b = cv2.line(img, result[0], result[3], (0,255,0), 7, cv2.LINE_AA)\n"
     ]
    }
   ],
   "source": [
    "if ids[2] == 1:\n",
    "    result = tuple([tuple(row) for row in corners[1][0]])\n",
    "    result\n",
    "    a = cv2.line(img, result[0], result[1], (0,255,0), 7, cv2.LINE_AA)\n",
    "    b = cv2.line(img, result[0], result[3], (0,255,0), 7, cv2.LINE_AA)"
   ]
  },
  {
   "cell_type": "code",
   "execution_count": 10,
   "id": "consecutive-sunglasses",
   "metadata": {},
   "outputs": [
    {
     "name": "stdout",
     "output_type": "stream",
     "text": [
      "(179.0, 27.0)\n",
      "(816.0, 428.0)\n"
     ]
    },
    {
     "name": "stderr",
     "output_type": "stream",
     "text": [
      "<ipython-input-10-229bece6820a>:8: DeprecationWarning: an integer is required (got type numpy.float32).  Implicit conversion to integers using __int__ is deprecated, and may be removed in a future version of Python.\n",
      "  r = cv2.rectangle(img,pt1,pt2,(255,0,0),10, cv2.LINE_AA)\n"
     ]
    }
   ],
   "source": [
    "pt1= tuple(corners[2][0][0]) #0\n",
    "print(pt1)\n",
    "\n",
    "\n",
    "pt2 = tuple((corners[0][0][2])) #1\n",
    "print(pt2)\n",
    "\n",
    "r = cv2.rectangle(img,pt1,pt2,(255,0,0),10, cv2.LINE_AA)\n",
    "cv2.imshow('Display', img)\n",
    "k = cv2.waitKey(0)\n"
   ]
  },
  {
   "cell_type": "code",
   "execution_count": 11,
   "id": "written-inclusion",
   "metadata": {},
   "outputs": [
    {
     "data": {
      "text/plain": [
       "224.0"
      ]
     },
     "execution_count": 11,
     "metadata": {},
     "output_type": "execute_result"
    }
   ],
   "source": [
    "corners[1][0][0][0]"
   ]
  },
  {
   "cell_type": "code",
   "execution_count": 12,
   "id": "intellectual-border",
   "metadata": {},
   "outputs": [],
   "source": [
    "#y1 = int(corners[0][0][3][1])\n",
    "#y2 = int(corners[0][0][2][1])\n",
    "#x1 = int(corners[3][0][0][0])\n",
    "#x2 = int(corners[3][0][2][0])\n",
    "\n",
    "\n",
    "\n",
    "\n",
    "#new_img=img[y1:y2,x1:x2]\n",
    "#print(type(new_img))"
   ]
  },
  {
   "cell_type": "code",
   "execution_count": null,
   "id": "therapeutic-siemens",
   "metadata": {},
   "outputs": [],
   "source": []
  },
  {
   "cell_type": "code",
   "execution_count": 13,
   "id": "aerial-governor",
   "metadata": {},
   "outputs": [],
   "source": [
    "x_00 = int(corners[2][0][0][0])\n",
    "x_22 = int(corners[0][0][2][0])\n",
    "\n",
    "\n",
    "y_00 = int(corners[2][0][0][1])\n",
    "y_22 = int(corners[0][0][2][1])\n",
    "\n",
    "center_x = int( x_00 + (x_22-x_00)/2 )\n",
    "center_y = int(y_00 + (y_22-y_00)/2)\n"
   ]
  },
  {
   "cell_type": "code",
   "execution_count": 14,
   "id": "vocational-record",
   "metadata": {},
   "outputs": [],
   "source": [
    "if quadrant==1:\n",
    "    crop_img = img[ y_00:center_y,x_00: center_x]\n",
    "if quadrant==2:\n",
    "    crop_img = img[ y_00:center_y,center_x:x_22]\n",
    "if quadrant==3:\n",
    "    crop_img = img[ center_y: y_22,x_00: center_x]\n",
    "if quadrant==4:\n",
    "    crop_img = img[ center_y: y_22 , center_x:x_22 ]\n"
   ]
  },
  {
   "cell_type": "code",
   "execution_count": null,
   "id": "national-mortality",
   "metadata": {},
   "outputs": [],
   "source": []
  },
  {
   "cell_type": "code",
   "execution_count": null,
   "id": "interpreted-payment",
   "metadata": {},
   "outputs": [],
   "source": []
  },
  {
   "cell_type": "code",
   "execution_count": null,
   "id": "understood-steel",
   "metadata": {},
   "outputs": [],
   "source": []
  },
  {
   "cell_type": "code",
   "execution_count": null,
   "id": "ranking-malta",
   "metadata": {},
   "outputs": [],
   "source": []
  },
  {
   "cell_type": "code",
   "execution_count": null,
   "id": "cleared-stroke",
   "metadata": {},
   "outputs": [],
   "source": []
  },
  {
   "cell_type": "code",
   "execution_count": 15,
   "id": "lonely-robert",
   "metadata": {},
   "outputs": [],
   "source": [
    "#image_path = '/Users/TurboSheep/Desktop'\n",
    "#cv2.imwrite('cropped.png',new_img)"
   ]
  },
  {
   "cell_type": "code",
   "execution_count": null,
   "id": "hindu-convergence",
   "metadata": {},
   "outputs": [],
   "source": []
  },
  {
   "cell_type": "code",
   "execution_count": null,
   "id": "stupid-venice",
   "metadata": {},
   "outputs": [],
   "source": [
    "cv2.imshow('cropped', crop_img)\n",
    "k = cv2.waitKey(0)\n"
   ]
  },
  {
   "cell_type": "code",
   "execution_count": null,
   "id": "protecting-saskatchewan",
   "metadata": {},
   "outputs": [],
   "source": []
  },
  {
   "cell_type": "code",
   "execution_count": null,
   "id": "appointed-hungarian",
   "metadata": {},
   "outputs": [],
   "source": [
    "cv2.destroyAllWindows()"
   ]
  }
 ],
 "metadata": {
  "kernelspec": {
   "display_name": "Python 3",
   "language": "python",
   "name": "python3"
  },
  "language_info": {
   "codemirror_mode": {
    "name": "ipython",
    "version": 3
   },
   "file_extension": ".py",
   "mimetype": "text/x-python",
   "name": "python",
   "nbconvert_exporter": "python",
   "pygments_lexer": "ipython3",
   "version": "3.9.2"
  }
 },
 "nbformat": 4,
 "nbformat_minor": 5
}
